{
 "cells": [
  {
   "cell_type": "code",
   "execution_count": 43,
   "id": "866bbd1d",
   "metadata": {},
   "outputs": [],
   "source": [
    "import pandas as pd\n",
    "import numpy as np\n",
    "\n",
    "from scipy.stats import truncnorm "
   ]
  },
  {
   "cell_type": "code",
   "execution_count": 69,
   "id": "bca7aa0a",
   "metadata": {},
   "outputs": [],
   "source": [
    "train_data = pd.read_csv('mnist_train.csv', delimiter=',')\n",
    "test_data = pd.read_csv('mnist_test.csv', delimiter=',')"
   ]
  },
  {
   "cell_type": "code",
   "execution_count": 70,
   "id": "8e48e895",
   "metadata": {},
   "outputs": [],
   "source": [
    "class BoltzamannMachine:\n",
    "    \n",
    "    def __init__ ( self , nodes , hidden_nodes , out_nodes , learning_rate ):\n",
    "        self.nodes = nodes\n",
    "        self.hidden_nodes = hidden_nodes\n",
    "        self.out_nodes = out_nodes\n",
    "        self.learning_rate = learning_rate\n",
    "\n",
    "        self.weight_matrix()\n",
    "        self.LogErr = 0\n",
    "        self.MSE = 0\n",
    "        \n",
    "    def weight_matrix(self):\n",
    "    \n",
    "        #set input-hidden matrix\n",
    "        var = 1/np.sqrt(self.nodes)\n",
    "        M = truncnorm(-var, var, loc = 0, scale = 1)\n",
    "        self.Input_Hidden = M.rvs((self.hidden_nodes, self.nodes))\n",
    "        \n",
    "        #set hidden-output matrix\n",
    "        var = 1/np.sqrt(self.hidden_nodes)\n",
    "        M = truncnorm (-var, var, loc = 0, scale = 1)\n",
    "        self.Hidden_Output = M.rvs((self.out_nodes, self.hidden_nodes))\n",
    "        \n",
    "    def train(self, input_, target, n):\n",
    "        \n",
    "        input_ = np.array(input_, ndmin = 2).T\n",
    "        target = np.array(target, ndmin = 2).T\n",
    "\n",
    "        sigma1 = sigma(np.dot(self.Input_Hidden, input_))\n",
    "        sigma2 = sigma(np.dot(self.Hidden_Output, target)) #output\n",
    "        \n",
    "        #estimate errors\n",
    "        err = target - sigma2        \n",
    "        self.MSE =(1/n) * (((sigma2 - target)**2).sum())\n",
    "        self.LogErr = -(target * np.log(sigma2) + (np.repeat(1, n) - target) * np.log(np.repeat(1, n) - sigma2)).sum()\n",
    "        \n",
    "        #updating hidden-output matrix\n",
    "        delta = err * dsigmaapprox(sigma2)\n",
    "        self.Hidden_Output += self.learning_rate * np.dot(delta , sigma1.T)\n",
    "        \n",
    "        #updating input-hidden matrix\n",
    "        err_hidden = np.dot(self.Hidden_Output.T, err)\n",
    "        delta = err_hidden * dsigmaapprox(sigma1)\n",
    "        self.Input_Hidden += self.learning_rate * np.dot(delta, input_.T)\n",
    "        \n",
    "    #calcola di nuovo la rete       \n",
    "    def Pensa(self, input_):\n",
    "        input_ = np.array(input_).T\n",
    "        vettore_out = sigma(np.dot(self.Input_Hidden, input_))\n",
    "        out = sigma(np.dot(self.Hidden_Output, vettore_out))\n",
    "        return out"
   ]
  },
  {
   "cell_type": "code",
   "execution_count": 67,
   "id": "67ae3252",
   "metadata": {},
   "outputs": [],
   "source": [
    "def dsigmaapprox (x):\n",
    "    return x *(1 - x)\n",
    "\n",
    "def sigma (x):\n",
    "    return 1/(1+ np.exp(-x))"
   ]
  },
  {
   "cell_type": "code",
   "execution_count": 76,
   "id": "a17dbb08",
   "metadata": {},
   "outputs": [
    {
     "name": "stdout",
     "output_type": "stream",
     "text": [
      "----------------------------\n",
      "----------------------------\n",
      "----------------------------\n",
      "----------------------------\n",
      "----------------------------\n",
      "----------------------------\n",
      "----------------------------\n",
      "----------------------------\n",
      "----------------------------\n",
      "----------------------------\n",
      "----------------------00----\n",
      "--------------------0000----\n",
      "----------------00000000----\n",
      "-------------00000000000----\n",
      "----------000000000000------\n",
      "-------000000000------------\n",
      "----0000000000--------------\n",
      "----000000------------------\n",
      "----00----------------------\n",
      "----------------------------\n",
      "----------------------------\n",
      "----------------------------\n",
      "----------------------------\n",
      "----------------------------\n",
      "----------------------------\n",
      "----------------------------\n",
      "----------------------------\n",
      "----------------------------\n"
     ]
    },
    {
     "data": {
      "image/png": "[encoded data removed]",
      "text/plain": [
       "<Figure size 432x288 with 1 Axes>"
      ]
     },
     "metadata": {
      "needs_background": "light"
     },
     "output_type": "display_data"
    }
   ],
   "source": [
    "ind = 2\n",
    "x = np.asfarray(test_data)/255\n",
    "num = x[ind, 1:]\n",
    "num = [num[i::28] for i in range(28)]\n",
    "\n",
    "for i in range(28):\n",
    "    for j in range(28):\n",
    "        if j == 27:\n",
    "            if num[i][j]==0:\n",
    "                print(\"-\")\n",
    "            else: print(0)\n",
    "        else:    \n",
    "            if num[i][j]==0:\n",
    "                print(\"-\", end = '')\n",
    "            else: print(0, end = '')\n",
    "\n",
    "from matplotlib import pyplot\n",
    "\n",
    "pyplot.imshow(num, cmap=pyplot.get_cmap('plasma'))\n",
    "pyplot.show()"
   ]
  },
  {
   "cell_type": "code",
   "execution_count": 72,
   "id": "34f30947",
   "metadata": {},
   "outputs": [],
   "source": [
    "prova = BoltzamannMachine( nodes = 3 ,\n",
    "             hidden_nodes = 3,\n",
    "             out_nodes =3 ,\n",
    "             learning_rate = 0.1)\n",
    "prova.train([1,2,3],[1,2,3],3)"
   ]
  },
  {
   "cell_type": "code",
   "execution_count": null,
   "id": "1dc6eb06",
   "metadata": {},
   "outputs": [],
   "source": []
  }
 ],
 "metadata": {
  "kernelspec": {
   "display_name": "Python 3",
   "language": "python",
   "name": "python3"
  },
  "language_info": {
   "codemirror_mode": {
    "name": "ipython",
    "version": 3
   },
   "file_extension": ".py",
   "mimetype": "text/x-python",
   "name": "python",
   "nbconvert_exporter": "python",
   "pygments_lexer": "ipython3",
   "version": "3.8.8"
  }
 },
 "nbformat": 4,
 "nbformat_minor": 5
}
